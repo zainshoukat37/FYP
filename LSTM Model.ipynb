{
 "cells": [
  {
   "cell_type": "code",
   "execution_count": 11,
   "id": "b53309d2-89e3-4fc4-bcde-efd9831e85ca",
   "metadata": {},
   "outputs": [
    {
     "name": "stdout",
     "output_type": "stream",
     "text": [
      "                Open      High       Low     Close  Adj Close     Volume\n",
      "Date                                                                    \n",
      "2010-06-29  1.266667  1.666667  1.169333  1.592667   1.592667  281494500\n",
      "2010-06-30  1.719333  2.028000  1.553333  1.588667   1.588667  257806500\n",
      "2010-07-01  1.666667  1.728000  1.351333  1.464000   1.464000  123282000\n",
      "2010-07-02  1.533333  1.540000  1.247333  1.280000   1.280000   77097000\n",
      "2010-07-06  1.333333  1.333333  1.055333  1.074000   1.074000  103003500\n",
      "Open         float64\n",
      "High         float64\n",
      "Low          float64\n",
      "Close        float64\n",
      "Adj Close    float64\n",
      "Volume         int64\n",
      "dtype: object\n"
     ]
    }
   ],
   "source": [
    "import pandas as pd\n",
    "import numpy as np\n",
    "import matplotlib.pyplot as plt\n",
    "import matplotlib.dates as mdates\n",
    "from sklearn.preprocessing import MinMaxScaler\n",
    "from tensorflow.keras.models import Sequential\n",
    "from tensorflow.keras.layers import Dense, LSTM\n",
    "from sklearn.metrics import mean_squared_error, mean_absolute_error\n",
    "\n",
    "# Load the dataset\n",
    "file_path = 'tsla.csv'\n",
    "data = pd.read_csv(file_path)\n",
    "\n",
    "# Convert the 'Date' column to datetime\n",
    "data['Date'] = pd.to_datetime(data['Date'])\n",
    "\n",
    "# Set 'Date' as the index\n",
    "data.set_index('Date', inplace=True)\n",
    "\n",
    "# Display the first few rows of the dataset and the data types of each column\n",
    "print(data.head())\n",
    "print(data.dtypes)\n"
   ]
  },
  {
   "cell_type": "code",
   "execution_count": 2,
   "id": "34297865-3bc1-41ef-9fa0-65bdb48decd0",
   "metadata": {},
   "outputs": [],
   "source": [
    "# Scaling the data\n",
    "scaler = MinMaxScaler(feature_range=(0, 1))\n",
    "scaled_data = scaler.fit_transform(data['Close'].values.reshape(-1, 1))\n"
   ]
  },
  {
   "cell_type": "code",
   "execution_count": 3,
   "id": "77030f29-4525-47dd-9f33-4b2576ede6e3",
   "metadata": {},
   "outputs": [],
   "source": [
    "# Prepare the training and validation data\n",
    "train_size = int(len(scaled_data) * 0.8)\n",
    "train_data = scaled_data[:train_size]\n",
    "test_data = scaled_data[train_size - 60:]  # Include the last 60 days of training data for context\n"
   ]
  },
  {
   "cell_type": "code",
   "execution_count": 4,
   "id": "09f20d74-458f-4c1d-83fb-099957a34dd0",
   "metadata": {},
   "outputs": [],
   "source": [
    "# Create sequences for training\n",
    "def create_sequences(data, seq_length):\n",
    "    X, y = [], []\n",
    "    for i in range(seq_length, len(data)):\n",
    "        X.append(data[i-seq_length:i, 0])\n",
    "        y.append(data[i, 0])\n",
    "    return np.array(X), np.array(y)\n",
    "\n",
    "seq_length = 60\n",
    "X_train, y_train = create_sequences(train_data, seq_length)\n",
    "X_test, y_test = create_sequences(test_data, seq_length)\n"
   ]
  },
  {
   "cell_type": "code",
   "execution_count": 5,
   "id": "6d0934e1-bad1-4890-81ef-de0c1243c8e8",
   "metadata": {},
   "outputs": [],
   "source": [
    "# Reshape the data to be suitable for LSTM input\n",
    "X_train = np.reshape(X_train, (X_train.shape[0], X_train.shape[1], 1))\n",
    "X_test = np.reshape(X_test, (X_test.shape[0], X_test.shape[1], 1))\n"
   ]
  },
  {
   "cell_type": "code",
   "execution_count": 6,
   "id": "24243ad6-977a-4089-a362-5673f0181d25",
   "metadata": {},
   "outputs": [
    {
     "name": "stderr",
     "output_type": "stream",
     "text": [
      "C:\\Users\\zains\\anaconda3\\Lib\\site-packages\\keras\\src\\layers\\rnn\\rnn.py:204: UserWarning: Do not pass an `input_shape`/`input_dim` argument to a layer. When using Sequential models, prefer using an `Input(shape)` object as the first layer in the model instead.\n",
      "  super().__init__(**kwargs)\n"
     ]
    }
   ],
   "source": [
    "# Build the LSTM model\n",
    "model = Sequential()\n",
    "model.add(LSTM(units=50, return_sequences=True, input_shape=(X_train.shape[1], 1)))\n",
    "model.add(LSTM(units=50))\n",
    "model.add(Dense(units=1))  # Predicting 1 value\n",
    "\n",
    "model.compile(optimizer='adam', loss='mean_squared_error')\n"
   ]
  },
  {
   "cell_type": "code",
   "execution_count": 7,
   "id": "fd1f4030-0255-42d2-ae63-f5b9f3440d23",
   "metadata": {},
   "outputs": [
    {
     "name": "stdout",
     "output_type": "stream",
     "text": [
      "Epoch 1/10\n",
      "\u001b[1m77/77\u001b[0m \u001b[32m━━━━━━━━━━━━━━━━━━━━\u001b[0m\u001b[37m\u001b[0m \u001b[1m23s\u001b[0m 102ms/step - loss: 3.6466e-04 - val_loss: 0.0055\n",
      "Epoch 2/10\n",
      "\u001b[1m77/77\u001b[0m \u001b[32m━━━━━━━━━━━━━━━━━━━━\u001b[0m\u001b[37m\u001b[0m \u001b[1m6s\u001b[0m 76ms/step - loss: 2.9458e-05 - val_loss: 0.0027\n",
      "Epoch 3/10\n",
      "\u001b[1m77/77\u001b[0m \u001b[32m━━━━━━━━━━━━━━━━━━━━\u001b[0m\u001b[37m\u001b[0m \u001b[1m6s\u001b[0m 78ms/step - loss: 1.8367e-05 - val_loss: 0.0024\n",
      "Epoch 4/10\n",
      "\u001b[1m77/77\u001b[0m \u001b[32m━━━━━━━━━━━━━━━━━━━━\u001b[0m\u001b[37m\u001b[0m \u001b[1m6s\u001b[0m 75ms/step - loss: 1.3573e-05 - val_loss: 0.0021\n",
      "Epoch 5/10\n",
      "\u001b[1m77/77\u001b[0m \u001b[32m━━━━━━━━━━━━━━━━━━━━\u001b[0m\u001b[37m\u001b[0m \u001b[1m6s\u001b[0m 83ms/step - loss: 1.5471e-05 - val_loss: 0.0050\n",
      "Epoch 6/10\n",
      "\u001b[1m77/77\u001b[0m \u001b[32m━━━━━━━━━━━━━━━━━━━━\u001b[0m\u001b[37m\u001b[0m \u001b[1m6s\u001b[0m 79ms/step - loss: 1.2378e-05 - val_loss: 0.0020\n",
      "Epoch 7/10\n",
      "\u001b[1m77/77\u001b[0m \u001b[32m━━━━━━━━━━━━━━━━━━━━\u001b[0m\u001b[37m\u001b[0m \u001b[1m10s\u001b[0m 78ms/step - loss: 1.4408e-05 - val_loss: 0.0029\n",
      "Epoch 8/10\n",
      "\u001b[1m77/77\u001b[0m \u001b[32m━━━━━━━━━━━━━━━━━━━━\u001b[0m\u001b[37m\u001b[0m \u001b[1m5s\u001b[0m 70ms/step - loss: 1.2444e-05 - val_loss: 0.0024\n",
      "Epoch 9/10\n",
      "\u001b[1m77/77\u001b[0m \u001b[32m━━━━━━━━━━━━━━━━━━━━\u001b[0m\u001b[37m\u001b[0m \u001b[1m6s\u001b[0m 75ms/step - loss: 1.0708e-05 - val_loss: 0.0018\n",
      "Epoch 10/10\n",
      "\u001b[1m77/77\u001b[0m \u001b[32m━━━━━━━━━━━━━━━━━━━━\u001b[0m\u001b[37m\u001b[0m \u001b[1m5s\u001b[0m 69ms/step - loss: 1.1430e-05 - val_loss: 0.0017\n"
     ]
    },
    {
     "data": {
      "text/plain": [
       "<keras.src.callbacks.history.History at 0x2425ab04410>"
      ]
     },
     "execution_count": 7,
     "metadata": {},
     "output_type": "execute_result"
    }
   ],
   "source": [
    "# Train the model\n",
    "model.fit(X_train, y_train, epochs=10, batch_size=32, validation_data=(X_test, y_test))\n"
   ]
  },
  {
   "cell_type": "code",
   "execution_count": 8,
   "id": "f8bb3b1c-5a67-4556-8290-0d4e9a4c2708",
   "metadata": {},
   "outputs": [
    {
     "name": "stdout",
     "output_type": "stream",
     "text": [
      "\u001b[1m20/20\u001b[0m \u001b[32m━━━━━━━━━━━━━━━━━━━━\u001b[0m\u001b[37m\u001b[0m \u001b[1m3s\u001b[0m 100ms/step\n"
     ]
    }
   ],
   "source": [
    "# Make predictions on the test data\n",
    "predicted_scaled = model.predict(X_test)\n",
    "\n",
    "# Inverse transform to get the actual values\n",
    "predicted = scaler.inverse_transform(predicted_scaled)\n",
    "y_test_actual = scaler.inverse_transform(y_test.reshape(-1, 1))\n"
   ]
  },
  {
   "cell_type": "code",
   "execution_count": null,
   "id": "e2b5c77d-ec25-4a03-a405-c9c7586902d9",
   "metadata": {},
   "outputs": [],
   "source": [
    "# Filter the data for December 2022 only\n",
    "december_start = '2022-12-01'\n",
    "december_end = '2022-12-30'\n",
    "december_mask = (data.index >= december_start) & (data.index <= december_end)\n",
    "\n",
    "# Filter the actual and predicted values for December 2022\n",
    "december_dates = data.index[december_mask]\n",
    "predicted_december = predicted[-len(december_dates):]\n",
    "y_test_december = y_test_actual[-len(december_dates):]\n",
    "\n",
    "# Plotting the actual vs predicted values for December 2022\n",
    "plt.figure(figsize=(10, 8))\n",
    "plt.plot(december_dates, y_test_december, label='Actual Close Price', color='red', marker='o')\n",
    "plt.plot(december_dates, predicted_december, label='LSTM Predicted Close Price', color='green', marker='o')\n",
    "plt.title('Actual vs LSTM Predicted Close Prices for December 2022')\n",
    "plt.xlabel('Date')\n",
    "plt.ylabel('Close Price')\n",
    "\n",
    "# Format the x-axis to display only date and month\n",
    "plt.gca().xaxis.set_major_formatter(mdates.DateFormatter('%d-%b'))\n",
    "plt.xticks(rotation=45)  # Rotate the labels for better visibility\n",
    "\n",
    "# Fill between for a clearer comparison\n",
    "plt.fill_between(december_dates, y_test_december.flatten(), predicted_december.flatten(), \n",
    "                 color='gray', alpha=0.2, label='Difference')\n",
    "\n",
    "plt.legend()\n",
    "plt.grid(True)\n",
    "plt.show()\n"
   ]
  },
  {
   "cell_type": "code",
   "execution_count": 10,
   "id": "534ed211-6987-430d-a822-a674da9805b1",
   "metadata": {},
   "outputs": [
    {
     "name": "stdout",
     "output_type": "stream",
     "text": [
      "Mean Squared Error for December 2022: 307.19084607725154\n",
      "Mean Absolute Error for December 2022: 16.32862176894996\n"
     ]
    }
   ],
   "source": [
    "# Calculate and display error metrics for December 2022\n",
    "mse_dec = mean_squared_error(y_test_december, predicted_december)\n",
    "mae_dec = mean_absolute_error(y_test_december, predicted_december)\n",
    "\n",
    "print(f'Mean Squared Error for December 2022: {mse_dec}')\n",
    "print(f'Mean Absolute Error for December 2022: {mae_dec}')\n"
   ]
  },
  {
   "cell_type": "code",
   "execution_count": null,
   "id": "45a35438-58e6-4acd-8bca-6b5fd92168d5",
   "metadata": {},
   "outputs": [],
   "source": []
  }
 ],
 "metadata": {
  "kernelspec": {
   "display_name": "Python 3 (ipykernel)",
   "language": "python",
   "name": "python3"
  },
  "language_info": {
   "codemirror_mode": {
    "name": "ipython",
    "version": 3
   },
   "file_extension": ".py",
   "mimetype": "text/x-python",
   "name": "python",
   "nbconvert_exporter": "python",
   "pygments_lexer": "ipython3",
   "version": "3.11.7"
  }
 },
 "nbformat": 4,
 "nbformat_minor": 5
}
